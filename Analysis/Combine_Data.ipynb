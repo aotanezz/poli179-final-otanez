{
 "cells": [
  {
   "cell_type": "markdown",
   "id": "eede2d84",
   "metadata": {},
   "source": [
    "# POLI 179 Final Project\n",
    "## Combining scraped data \n",
    "### By: Alyson Otañez "
   ]
  },
  {
   "cell_type": "markdown",
   "id": "57af81df",
   "metadata": {},
   "source": [
    "The following code simply combines the scraped data that be found in the `Data` folder of the 5 regions. Templates on scraping the data can be found in the `Web Scraping` folder. "
   ]
  },
  {
   "cell_type": "markdown",
   "id": "50655dce",
   "metadata": {},
   "source": [
    "### 1. Setup"
   ]
  },
  {
   "cell_type": "code",
   "execution_count": null,
   "id": "23c4d82a",
   "metadata": {},
   "outputs": [],
   "source": [
    "# Install packages if necessary \n",
    "# ! pip install pandas"
   ]
  },
  {
   "cell_type": "code",
   "execution_count": null,
   "id": "bdccf249",
   "metadata": {},
   "outputs": [],
   "source": [
    "# Import packages \n",
    "import pandas as pd"
   ]
  },
  {
   "cell_type": "code",
   "execution_count": null,
   "id": "d7668eb8",
   "metadata": {},
   "outputs": [],
   "source": [
    "# Load data \n",
    "chino = pd.read_csv('Data/chino_complete.csv')\n",
    "fontana = pd.read_csv('Data/fontana_complete.csv')\n",
    "marchjpa = pd.read_csv('Data/marchjpa_complete.csv')\n",
    "ontario = pd.read_csv('Data/ontario_complete.csv')\n",
    "rialto = pd.read_csv('Data/rialto_complete.csv')"
   ]
  },
  {
   "cell_type": "markdown",
   "id": "fbe5da8a",
   "metadata": {},
   "source": [
    "### 2. Data Wrangling"
   ]
  },
  {
   "cell_type": "code",
   "execution_count": null,
   "id": "c1fd7921",
   "metadata": {},
   "outputs": [],
   "source": [
    "# Chino\n",
    "chino = chino.drop(columns = ['industrial', 'recreation', 'housing', 'transportation', 'Unnamed: 0.1', 'Unnamed: 0'])\n",
    "chino = chino.rename(columns = {'text': 'Text', 'date': 'Date', 'year': 'Year'})\n",
    "chino['City'] = 'Chino'"
   ]
  },
  {
   "cell_type": "code",
   "execution_count": null,
   "id": "9e9fc7df",
   "metadata": {},
   "outputs": [],
   "source": [
    "# Fontana\n",
    "fontana = fontana.drop(columns = 'PDF Link')\n",
    "fontana['City'] = 'Fontana'"
   ]
  },
  {
   "cell_type": "code",
   "execution_count": null,
   "id": "4c3ef35d",
   "metadata": {},
   "outputs": [],
   "source": [
    "# March JPA \n",
    "marchjpa = marchjpa.drop(columns = ['Unnamed: 0', 'PDF.Link'])\n",
    "marchjpa['Year'] = marchjpa['Year'].fillna(0)\n",
    "marchjpa['Year'] = marchjpa['Year'].astype(int)\n",
    "marchjpa['City'] = 'March JPA'"
   ]
  },
  {
   "cell_type": "code",
   "execution_count": null,
   "id": "b6fd179d",
   "metadata": {},
   "outputs": [],
   "source": [
    "# Ontario\n",
    "ontario = ontario.drop(columns = ['Unnamed: 0', 'PDF.Link'])\n",
    "ontario['Year'] = ontario['Year'].fillna(0)\n",
    "ontario['Year'] = ontario['Year'].astype(int)\n",
    "ontario['City'] = 'Ontario'"
   ]
  },
  {
   "cell_type": "code",
   "execution_count": null,
   "id": "008ff6ea",
   "metadata": {},
   "outputs": [],
   "source": [
    "# Rialto \n",
    "rialto = rialto.drop(columns = 'PDF Link')\n",
    "rialto['Year'] = rialto['Year'].fillna(0)\n",
    "rialto['Year'] = rialto['Year'].astype(int)\n",
    "rialto['City'] = 'Rialto'"
   ]
  },
  {
   "cell_type": "markdown",
   "id": "223689c3",
   "metadata": {},
   "source": [
    "### 3. Merge Data"
   ]
  },
  {
   "cell_type": "code",
   "execution_count": null,
   "id": "bc95ee6e",
   "metadata": {},
   "outputs": [],
   "source": [
    "# Merge data sets\n",
    "ie_cities = pd.concat([chino, fontana, marchjpa, ontario, rialto])\n",
    "\n",
    "# Save as csv \n",
    "ie_cities.to_csv('ie_cities.csv', index = False)"
   ]
  }
 ],
 "metadata": {
  "kernelspec": {
   "display_name": "Python 3 (clean)",
   "language": "python",
   "name": "python3_clean"
  },
  "language_info": {
   "codemirror_mode": {
    "name": "ipython",
    "version": 3
   },
   "file_extension": ".py",
   "mimetype": "text/x-python",
   "name": "python",
   "nbconvert_exporter": "python",
   "pygments_lexer": "ipython3",
   "version": "3.9.5"
  }
 },
 "nbformat": 4,
 "nbformat_minor": 5
}
